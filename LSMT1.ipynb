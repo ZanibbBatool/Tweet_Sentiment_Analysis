{
 "cells": [
  {
   "cell_type": "code",
   "execution_count": null,
   "metadata": {
    "id": "hTVGvmf9hh9r"
   },
   "outputs": [],
   "source": [
    "from google.colab import drive\n",
    "import tensorflow as tf\n",
    "import numpy as np\n",
    "import pandas as pd\n",
    "import re\n",
    "import matplotlib.pyplot as plt\n",
    "import seaborn as sns\n",
    "from tensorflow.keras.models import Sequential\n",
    "from tensorflow.keras.layers import Input, Dense, Dropout, Embedding, LSTM, LayerNormalization, Bidirectional\n",
    "from tensorflow.keras.preprocessing.text import Tokenizer\n",
    "from tensorflow.keras.preprocessing.sequence import pad_sequences\n",
    "from tensorflow.keras.regularizers import l2\n",
    "from tensorflow.keras.optimizers import Adam\n",
    "from tensorflow.keras.callbacks import EarlyStopping, ReduceLROnPlateau\n",
    "from sklearn.model_selection import train_test_split, StratifiedKFold\n",
    "from sklearn.preprocessing import LabelEncoder\n",
    "from sklearn.metrics import confusion_matrix, classification_report\n",
    "from imblearn.over_sampling import SMOTE"
   ]
  },
  {
   "cell_type": "code",
   "execution_count": null,
   "metadata": {
    "colab": {
     "base_uri": "https://localhost:8080/"
    },
    "executionInfo": {
     "elapsed": 27472,
     "status": "ok",
     "timestamp": 1742507344293,
     "user": {
      "displayName": "Zanib Batool",
      "userId": "03316028306774710875"
     },
     "user_tz": -180
    },
    "id": "OCRMcAo9h1NM",
    "outputId": "0e337be4-0115-4efe-ec14-f76d88915a97"
   },
   "outputs": [
    {
     "name": "stdout",
     "output_type": "stream",
     "text": [
      "Mounted at /content/drive\n"
     ]
    }
   ],
   "source": [
    "drive.mount(\"/content/drive\")"
   ]
  },
  {
   "cell_type": "code",
   "execution_count": null,
   "metadata": {
    "colab": {
     "base_uri": "https://localhost:8080/"
    },
    "executionInfo": {
     "elapsed": 90,
     "status": "ok",
     "timestamp": 1742507450391,
     "user": {
      "displayName": "Zanib Batool",
      "userId": "03316028306774710875"
     },
     "user_tz": -180
    },
    "id": "_qm4_ni5h1ii",
    "outputId": "e523bc98-6790-4302-d177-ff1812f0e32f"
   },
   "outputs": [
    {
     "name": "stdout",
     "output_type": "stream",
     "text": [
      "Sample Tweets:\n",
      "\n",
      "       sentiment                                            content\n",
      "35826    neutral  Good  morning! Just went to bed it feels and a...\n",
      "30597  happiness                    Had a ton of fun w muffin today\n",
      "18193    neutral  @madpierrot im sure  s'okay, ill save my $$ an...\n",
      "9502     neutral                  looking for my littlest tsutsu...\n",
      "3087     neutral  @Dr_DinaSadik forensic mein kya hai! bas rat t...\n"
     ]
    }
   ],
   "source": [
    "# dataset link\n",
    "file_path = \"tweet_emotions.csv/tweet_emotions.csv\"\n",
    "df = pd.read_csv(file_path)\n",
    "\n",
    "# filter relevant sentiments\n",
    "selected_categories = [\"sadness\", \"neutral\", \"happiness\"]\n",
    "filtered_data = df[df[\"sentiment\"].isin(selected_categories)]\n",
    "\n",
    "\n",
    "print(\"Sample Tweets:\\n\")\n",
    "print(filtered_data[[\"sentiment\", \"content\"]].sample(5, random_state=45))"
   ]
  },
  {
   "cell_type": "code",
   "execution_count": null,
   "metadata": {
    "colab": {
     "base_uri": "https://localhost:8080/"
    },
    "executionInfo": {
     "elapsed": 32,
     "status": "ok",
     "timestamp": 1742507510335,
     "user": {
      "displayName": "Zanib Batool",
      "userId": "03316028306774710875"
     },
     "user_tz": -180
    },
    "id": "Sb_idssYicfW",
    "outputId": "32b12c98-9463-46da-a3b6-d1b6f976037a"
   },
   "outputs": [
    {
     "name": "stdout",
     "output_type": "stream",
     "text": [
      "Sentiment Label Distribution:\n",
      "\n",
      "sentiment\n",
      "neutral      8638\n",
      "happiness    5209\n",
      "sadness      5165\n",
      "Name: count, dtype: int64\n",
      "\n",
      "Missing Values Check:\n",
      "\n",
      "tweet_id     0\n",
      "sentiment    0\n",
      "content      0\n",
      "dtype: int64\n"
     ]
    }
   ],
   "source": [
    "# class distribution and missing values check\n",
    "sentiment_counts = filtered_data[\"sentiment\"].value_counts()\n",
    "\n",
    "\n",
    "print(\"Sentiment Label Distribution:\\n\")\n",
    "print(sentiment_counts)\n",
    "\n",
    "\n",
    "print(\"\\nMissing Values Check:\\n\")\n",
    "print(filtered_data[[\"tweet_id\", \"sentiment\", \"content\"]].isnull().sum())"
   ]
  },
  {
   "cell_type": "code",
   "execution_count": null,
   "metadata": {
    "colab": {
     "base_uri": "https://localhost:8080/"
    },
    "executionInfo": {
     "elapsed": 101,
     "status": "ok",
     "timestamp": 1742507633111,
     "user": {
      "displayName": "Zanib Batool",
      "userId": "03316028306774710875"
     },
     "user_tz": -180
    },
    "id": "5Va-2pOriqUJ",
    "outputId": "1be1966f-5acf-4a69-8d3d-bcd4d2afbac9"
   },
   "outputs": [
    {
     "name": "stdout",
     "output_type": "stream",
     "text": [
      "cleaned data samples\n",
      "['layin n bed with a headache  ughhhhwaitin on your call', 'funeral ceremonygloomy friday', 'we want to trade with someone who has houston tickets but no one will', 'i should be sleep but im not thinking about an old friend who i want but hes married now damn amp he wants me  scandalous', 'charlene my love i miss you']\n"
     ]
    }
   ],
   "source": [
    "# text cleaning function (removing punctuation, @ and urls)\n",
    "\n",
    "def clean_text(text):\n",
    "    text = re.sub(r\"http\\S+|www\\S+|https\\S+\", '', text)\n",
    "    text = re.sub(r'\\@\\w+', '', text)\n",
    "    text = re.sub(r'[^a-zA-Z ]', '', text)\n",
    "    return text.lower().strip()\n",
    "\n",
    "filtered_data.loc[:, \"content\"] = filtered_data[\"content\"].apply(clean_text)\n",
    "\n",
    "#encoding\n",
    "texts = filtered_data[\"content\"].values\n",
    "labels = filtered_data[\"sentiment\"].values\n",
    "\n",
    "label_encoder = LabelEncoder()\n",
    "labels_encoded = label_encoder.fit_transform(labels)\n",
    "\n",
    "print(\"cleaned data samples\")\n",
    "print(filtered_data[\"content\"].iloc[:5].tolist())"
   ]
  },
  {
   "cell_type": "code",
   "execution_count": null,
   "metadata": {
    "id": "ZcRBk2uujcHo"
   },
   "outputs": [],
   "source": [
    "# tokenization\n",
    "max_words = 10000\n",
    "max_len = 100\n",
    "\n",
    "tokenizer = Tokenizer(num_words=max_words, oov_token=\"<OOV>\")\n",
    "tokenizer.fit_on_texts(texts)\n",
    "\n",
    "\n",
    "sequences = tokenizer.texts_to_sequences(texts)\n",
    "sequences = [[min(word_idx, max_words - 1) for word_idx in seq] for seq in sequences]\n",
    "padded_sequences = pad_sequences(sequences, maxlen=max_len, padding=\"post\", truncating=\"post\")"
   ]
  },
  {
   "cell_type": "code",
   "execution_count": null,
   "metadata": {
    "colab": {
     "base_uri": "https://localhost:8080/"
    },
    "executionInfo": {
     "elapsed": 992,
     "status": "ok",
     "timestamp": 1742507869428,
     "user": {
      "displayName": "Zanib Batool",
      "userId": "03316028306774710875"
     },
     "user_tz": -180
    },
    "id": "-uK7NCU8jk0U",
    "outputId": "2082ae2f-af99-424a-9464-cd27e1e47a0e"
   },
   "outputs": [
    {
     "name": "stdout",
     "output_type": "stream",
     "text": [
      "Class Distribution Before :\n",
      "  Class 2 (sadness): 5165 samples\n",
      "  Class 1 (neutral): 8638 samples\n",
      "  Class 0 (happiness): 5209 samples\n",
      "Class Distribution After SMOTE:\n",
      "  Class 2 (sadness): 8638 samples\n",
      "  Class 1 (neutral): 8638 samples\n",
      "  Class 0 (happiness): 8638 samples\n"
     ]
    }
   ],
   "source": [
    "#oversampling smaller classes to overcome model bias\n",
    "\n",
    "from collections import Counter\n",
    "\n",
    "# original\n",
    "print(\"Class Distribution Before :\")\n",
    "original_counts = Counter(labels_encoded)\n",
    "for class_label, count in original_counts.items():\n",
    "    print(f\"  Class {class_label} ({label_encoder.classes_[class_label]}): {count} samples\")\n",
    "\n",
    "#SMOTE oversampling\n",
    "smote = SMOTE(random_state=42)\n",
    "X_resampled, y_resampled = smote.fit_resample(padded_sequences, labels_encoded)\n",
    "\n",
    "y_resampled_cat = tf.keras.utils.to_categorical(y_resampled, num_classes=3)\n",
    "\n",
    "# new class distribution\n",
    "print(\"Class Distribution After SMOTE:\")\n",
    "resampled_counts = Counter(y_resampled)\n",
    "for class_label, count in resampled_counts.items():\n",
    "    print(f\"  Class {class_label} ({label_encoder.classes_[class_label]}): {count} samples\")\n",
    "\n",
    "# split new dataset for testing and training\n",
    "X_train, X_test, y_train, y_test = train_test_split(\n",
    "    X_resampled, y_resampled_cat, test_size=0.2, random_state=42, stratify=y_resampled\n",
    ")"
   ]
  },
  {
   "cell_type": "code",
   "execution_count": null,
   "metadata": {
    "colab": {
     "base_uri": "https://localhost:8080/",
     "height": 401
    },
    "executionInfo": {
     "elapsed": 1717,
     "status": "ok",
     "timestamp": 1742507984508,
     "user": {
      "displayName": "Zanib Batool",
      "userId": "03316028306774710875"
     },
     "user_tz": -180
    },
    "id": "L7N0XLdskChn",
    "outputId": "22a8b180-5d6a-4278-f84b-fb72685b884f"
   },
   "outputs": [
    {
     "data": {
      "text/html": [
       "<pre style=\"white-space:pre;overflow-x:auto;line-height:normal;font-family:Menlo,'DejaVu Sans Mono',consolas,'Courier New',monospace\"><span style=\"font-weight: bold\">Model: \"sequential\"</span>\n",
       "</pre>\n"
      ],
      "text/plain": [
       "\u001b[1mModel: \"sequential\"\u001b[0m\n"
      ]
     },
     "metadata": {},
     "output_type": "display_data"
    },
    {
     "data": {
      "text/html": [
       "<pre style=\"white-space:pre;overflow-x:auto;line-height:normal;font-family:Menlo,'DejaVu Sans Mono',consolas,'Courier New',monospace\">┏━━━━━━━━━━━━━━━━━━━━━━━━━━━━━━━━━━━━━━┳━━━━━━━━━━━━━━━━━━━━━━━━━━━━━┳━━━━━━━━━━━━━━━━━┓\n",
       "┃<span style=\"font-weight: bold\"> Layer (type)                         </span>┃<span style=\"font-weight: bold\"> Output Shape                </span>┃<span style=\"font-weight: bold\">         Param # </span>┃\n",
       "┡━━━━━━━━━━━━━━━━━━━━━━━━━━━━━━━━━━━━━━╇━━━━━━━━━━━━━━━━━━━━━━━━━━━━━╇━━━━━━━━━━━━━━━━━┩\n",
       "│ embedding (<span style=\"color: #0087ff; text-decoration-color: #0087ff\">Embedding</span>)                │ (<span style=\"color: #00d7ff; text-decoration-color: #00d7ff\">None</span>, <span style=\"color: #00af00; text-decoration-color: #00af00\">100</span>, <span style=\"color: #00af00; text-decoration-color: #00af00\">128</span>)            │       <span style=\"color: #00af00; text-decoration-color: #00af00\">1,280,000</span> │\n",
       "├──────────────────────────────────────┼─────────────────────────────┼─────────────────┤\n",
       "│ bidirectional (<span style=\"color: #0087ff; text-decoration-color: #0087ff\">Bidirectional</span>)        │ (<span style=\"color: #00d7ff; text-decoration-color: #00d7ff\">None</span>, <span style=\"color: #00af00; text-decoration-color: #00af00\">100</span>, <span style=\"color: #00af00; text-decoration-color: #00af00\">256</span>)            │         <span style=\"color: #00af00; text-decoration-color: #00af00\">263,168</span> │\n",
       "├──────────────────────────────────────┼─────────────────────────────┼─────────────────┤\n",
       "│ layer_normalization                  │ (<span style=\"color: #00d7ff; text-decoration-color: #00d7ff\">None</span>, <span style=\"color: #00af00; text-decoration-color: #00af00\">100</span>, <span style=\"color: #00af00; text-decoration-color: #00af00\">256</span>)            │             <span style=\"color: #00af00; text-decoration-color: #00af00\">512</span> │\n",
       "│ (<span style=\"color: #0087ff; text-decoration-color: #0087ff\">LayerNormalization</span>)                 │                             │                 │\n",
       "├──────────────────────────────────────┼─────────────────────────────┼─────────────────┤\n",
       "│ bidirectional_1 (<span style=\"color: #0087ff; text-decoration-color: #0087ff\">Bidirectional</span>)      │ (<span style=\"color: #00d7ff; text-decoration-color: #00d7ff\">None</span>, <span style=\"color: #00af00; text-decoration-color: #00af00\">128</span>)                 │         <span style=\"color: #00af00; text-decoration-color: #00af00\">164,352</span> │\n",
       "├──────────────────────────────────────┼─────────────────────────────┼─────────────────┤\n",
       "│ dense (<span style=\"color: #0087ff; text-decoration-color: #0087ff\">Dense</span>)                        │ (<span style=\"color: #00d7ff; text-decoration-color: #00d7ff\">None</span>, <span style=\"color: #00af00; text-decoration-color: #00af00\">128</span>)                 │          <span style=\"color: #00af00; text-decoration-color: #00af00\">16,512</span> │\n",
       "├──────────────────────────────────────┼─────────────────────────────┼─────────────────┤\n",
       "│ dropout (<span style=\"color: #0087ff; text-decoration-color: #0087ff\">Dropout</span>)                    │ (<span style=\"color: #00d7ff; text-decoration-color: #00d7ff\">None</span>, <span style=\"color: #00af00; text-decoration-color: #00af00\">128</span>)                 │               <span style=\"color: #00af00; text-decoration-color: #00af00\">0</span> │\n",
       "├──────────────────────────────────────┼─────────────────────────────┼─────────────────┤\n",
       "│ dense_1 (<span style=\"color: #0087ff; text-decoration-color: #0087ff\">Dense</span>)                      │ (<span style=\"color: #00d7ff; text-decoration-color: #00d7ff\">None</span>, <span style=\"color: #00af00; text-decoration-color: #00af00\">32</span>)                  │           <span style=\"color: #00af00; text-decoration-color: #00af00\">4,128</span> │\n",
       "├──────────────────────────────────────┼─────────────────────────────┼─────────────────┤\n",
       "│ dense_2 (<span style=\"color: #0087ff; text-decoration-color: #0087ff\">Dense</span>)                      │ (<span style=\"color: #00d7ff; text-decoration-color: #00d7ff\">None</span>, <span style=\"color: #00af00; text-decoration-color: #00af00\">3</span>)                   │              <span style=\"color: #00af00; text-decoration-color: #00af00\">99</span> │\n",
       "└──────────────────────────────────────┴─────────────────────────────┴─────────────────┘\n",
       "</pre>\n"
      ],
      "text/plain": [
       "┏━━━━━━━━━━━━━━━━━━━━━━━━━━━━━━━━━━━━━━┳━━━━━━━━━━━━━━━━━━━━━━━━━━━━━┳━━━━━━━━━━━━━━━━━┓\n",
       "┃\u001b[1m \u001b[0m\u001b[1mLayer (type)                        \u001b[0m\u001b[1m \u001b[0m┃\u001b[1m \u001b[0m\u001b[1mOutput Shape               \u001b[0m\u001b[1m \u001b[0m┃\u001b[1m \u001b[0m\u001b[1m        Param #\u001b[0m\u001b[1m \u001b[0m┃\n",
       "┡━━━━━━━━━━━━━━━━━━━━━━━━━━━━━━━━━━━━━━╇━━━━━━━━━━━━━━━━━━━━━━━━━━━━━╇━━━━━━━━━━━━━━━━━┩\n",
       "│ embedding (\u001b[38;5;33mEmbedding\u001b[0m)                │ (\u001b[38;5;45mNone\u001b[0m, \u001b[38;5;34m100\u001b[0m, \u001b[38;5;34m128\u001b[0m)            │       \u001b[38;5;34m1,280,000\u001b[0m │\n",
       "├──────────────────────────────────────┼─────────────────────────────┼─────────────────┤\n",
       "│ bidirectional (\u001b[38;5;33mBidirectional\u001b[0m)        │ (\u001b[38;5;45mNone\u001b[0m, \u001b[38;5;34m100\u001b[0m, \u001b[38;5;34m256\u001b[0m)            │         \u001b[38;5;34m263,168\u001b[0m │\n",
       "├──────────────────────────────────────┼─────────────────────────────┼─────────────────┤\n",
       "│ layer_normalization                  │ (\u001b[38;5;45mNone\u001b[0m, \u001b[38;5;34m100\u001b[0m, \u001b[38;5;34m256\u001b[0m)            │             \u001b[38;5;34m512\u001b[0m │\n",
       "│ (\u001b[38;5;33mLayerNormalization\u001b[0m)                 │                             │                 │\n",
       "├──────────────────────────────────────┼─────────────────────────────┼─────────────────┤\n",
       "│ bidirectional_1 (\u001b[38;5;33mBidirectional\u001b[0m)      │ (\u001b[38;5;45mNone\u001b[0m, \u001b[38;5;34m128\u001b[0m)                 │         \u001b[38;5;34m164,352\u001b[0m │\n",
       "├──────────────────────────────────────┼─────────────────────────────┼─────────────────┤\n",
       "│ dense (\u001b[38;5;33mDense\u001b[0m)                        │ (\u001b[38;5;45mNone\u001b[0m, \u001b[38;5;34m128\u001b[0m)                 │          \u001b[38;5;34m16,512\u001b[0m │\n",
       "├──────────────────────────────────────┼─────────────────────────────┼─────────────────┤\n",
       "│ dropout (\u001b[38;5;33mDropout\u001b[0m)                    │ (\u001b[38;5;45mNone\u001b[0m, \u001b[38;5;34m128\u001b[0m)                 │               \u001b[38;5;34m0\u001b[0m │\n",
       "├──────────────────────────────────────┼─────────────────────────────┼─────────────────┤\n",
       "│ dense_1 (\u001b[38;5;33mDense\u001b[0m)                      │ (\u001b[38;5;45mNone\u001b[0m, \u001b[38;5;34m32\u001b[0m)                  │           \u001b[38;5;34m4,128\u001b[0m │\n",
       "├──────────────────────────────────────┼─────────────────────────────┼─────────────────┤\n",
       "│ dense_2 (\u001b[38;5;33mDense\u001b[0m)                      │ (\u001b[38;5;45mNone\u001b[0m, \u001b[38;5;34m3\u001b[0m)                   │              \u001b[38;5;34m99\u001b[0m │\n",
       "└──────────────────────────────────────┴─────────────────────────────┴─────────────────┘\n"
      ]
     },
     "metadata": {},
     "output_type": "display_data"
    },
    {
     "data": {
      "text/html": [
       "<pre style=\"white-space:pre;overflow-x:auto;line-height:normal;font-family:Menlo,'DejaVu Sans Mono',consolas,'Courier New',monospace\"><span style=\"font-weight: bold\"> Total params: </span><span style=\"color: #00af00; text-decoration-color: #00af00\">1,728,771</span> (6.59 MB)\n",
       "</pre>\n"
      ],
      "text/plain": [
       "\u001b[1m Total params: \u001b[0m\u001b[38;5;34m1,728,771\u001b[0m (6.59 MB)\n"
      ]
     },
     "metadata": {},
     "output_type": "display_data"
    },
    {
     "data": {
      "text/html": [
       "<pre style=\"white-space:pre;overflow-x:auto;line-height:normal;font-family:Menlo,'DejaVu Sans Mono',consolas,'Courier New',monospace\"><span style=\"font-weight: bold\"> Trainable params: </span><span style=\"color: #00af00; text-decoration-color: #00af00\">1,728,771</span> (6.59 MB)\n",
       "</pre>\n"
      ],
      "text/plain": [
       "\u001b[1m Trainable params: \u001b[0m\u001b[38;5;34m1,728,771\u001b[0m (6.59 MB)\n"
      ]
     },
     "metadata": {},
     "output_type": "display_data"
    },
    {
     "data": {
      "text/html": [
       "<pre style=\"white-space:pre;overflow-x:auto;line-height:normal;font-family:Menlo,'DejaVu Sans Mono',consolas,'Courier New',monospace\"><span style=\"font-weight: bold\"> Non-trainable params: </span><span style=\"color: #00af00; text-decoration-color: #00af00\">0</span> (0.00 B)\n",
       "</pre>\n"
      ],
      "text/plain": [
       "\u001b[1m Non-trainable params: \u001b[0m\u001b[38;5;34m0\u001b[0m (0.00 B)\n"
      ]
     },
     "metadata": {},
     "output_type": "display_data"
    }
   ],
   "source": [
    "#optimised LSTM network\n",
    "\n",
    "OptimizedLSTM = Sequential([\n",
    "    Input(shape=(max_len,)),\n",
    "    Embedding(input_dim=max_words, output_dim=128),\n",
    "    Bidirectional(LSTM(128, return_sequences=True)),\n",
    "    LayerNormalization(),\n",
    "    Bidirectional(LSTM(64)),\n",
    "    Dense(128, activation='relu', kernel_regularizer=l2(0.01)),\n",
    "    Dropout(0.5),\n",
    "    Dense(32, activation='relu', kernel_regularizer=l2(0.01), use_bias=True),\n",
    "    Dense(3, activation='softmax', use_bias=True)\n",
    "])\n",
    "\n",
    "OptimizedLSTM.summary()\n"
   ]
  },
  {
   "cell_type": "code",
   "execution_count": null,
   "metadata": {
    "colab": {
     "base_uri": "https://localhost:8080/"
    },
    "executionInfo": {
     "elapsed": 138166,
     "status": "ok",
     "timestamp": 1742508651782,
     "user": {
      "displayName": "Zanib Batool",
      "userId": "03316028306774710875"
     },
     "user_tz": -180
    },
    "id": "3q7lGIxNkgnr",
    "outputId": "3b89c1ac-ae59-41dd-83ef-5fa311627957"
   },
   "outputs": [
    {
     "name": "stdout",
     "output_type": "stream",
     "text": [
      "\n",
      "🔹 Training Fold 1...\n",
      "Epoch 1/10\n",
      "\u001b[1m432/432\u001b[0m \u001b[32m━━━━━━━━━━━━━━━━━━━━\u001b[0m\u001b[37m\u001b[0m \u001b[1m17s\u001b[0m 27ms/step - accuracy: 0.7924 - loss: 0.6786 - val_accuracy: 0.6954 - val_loss: 0.8716 - learning_rate: 1.0000e-04\n",
      "Epoch 2/10\n",
      "\u001b[1m432/432\u001b[0m \u001b[32m━━━━━━━━━━━━━━━━━━━━\u001b[0m\u001b[37m\u001b[0m \u001b[1m11s\u001b[0m 25ms/step - accuracy: 0.8140 - loss: 0.6101 - val_accuracy: 0.6684 - val_loss: 0.9313 - learning_rate: 1.0000e-04\n",
      "Epoch 3/10\n",
      "\u001b[1m432/432\u001b[0m \u001b[32m━━━━━━━━━━━━━━━━━━━━\u001b[0m\u001b[37m\u001b[0m \u001b[1m11s\u001b[0m 25ms/step - accuracy: 0.8369 - loss: 0.5543 - val_accuracy: 0.6575 - val_loss: 0.9851 - learning_rate: 1.0000e-04\n",
      "Epoch 4/10\n",
      "\u001b[1m432/432\u001b[0m \u001b[32m━━━━━━━━━━━━━━━━━━━━\u001b[0m\u001b[37m\u001b[0m \u001b[1m11s\u001b[0m 25ms/step - accuracy: 0.8628 - loss: 0.4939 - val_accuracy: 0.6482 - val_loss: 1.0313 - learning_rate: 5.0000e-05\n",
      "\n",
      "🔹 Training Fold 2...\n",
      "Epoch 1/10\n",
      "\u001b[1m432/432\u001b[0m \u001b[32m━━━━━━━━━━━━━━━━━━━━\u001b[0m\u001b[37m\u001b[0m \u001b[1m11s\u001b[0m 25ms/step - accuracy: 0.7664 - loss: 0.7233 - val_accuracy: 0.8088 - val_loss: 0.6156 - learning_rate: 5.0000e-05\n",
      "Epoch 2/10\n",
      "\u001b[1m432/432\u001b[0m \u001b[32m━━━━━━━━━━━━━━━━━━━━\u001b[0m\u001b[37m\u001b[0m \u001b[1m11s\u001b[0m 26ms/step - accuracy: 0.8068 - loss: 0.6435 - val_accuracy: 0.7999 - val_loss: 0.6241 - learning_rate: 5.0000e-05\n",
      "Epoch 3/10\n",
      "\u001b[1m432/432\u001b[0m \u001b[32m━━━━━━━━━━━━━━━━━━━━\u001b[0m\u001b[37m\u001b[0m \u001b[1m11s\u001b[0m 25ms/step - accuracy: 0.8187 - loss: 0.6059 - val_accuracy: 0.7780 - val_loss: 0.6566 - learning_rate: 5.0000e-05\n",
      "Epoch 4/10\n",
      "\u001b[1m432/432\u001b[0m \u001b[32m━━━━━━━━━━━━━━━━━━━━\u001b[0m\u001b[37m\u001b[0m \u001b[1m11s\u001b[0m 26ms/step - accuracy: 0.8391 - loss: 0.5556 - val_accuracy: 0.7774 - val_loss: 0.6633 - learning_rate: 2.5000e-05\n",
      "\n",
      "🔹 Training Fold 3...\n",
      "Epoch 1/10\n",
      "\u001b[1m432/432\u001b[0m \u001b[32m━━━━━━━━━━━━━━━━━━━━\u001b[0m\u001b[37m\u001b[0m \u001b[1m11s\u001b[0m 26ms/step - accuracy: 0.7871 - loss: 0.6897 - val_accuracy: 0.8560 - val_loss: 0.5212 - learning_rate: 2.5000e-05\n",
      "Epoch 2/10\n",
      "\u001b[1m432/432\u001b[0m \u001b[32m━━━━━━━━━━━━━━━━━━━━\u001b[0m\u001b[37m\u001b[0m \u001b[1m11s\u001b[0m 25ms/step - accuracy: 0.7951 - loss: 0.6671 - val_accuracy: 0.8480 - val_loss: 0.5304 - learning_rate: 2.5000e-05\n",
      "Epoch 3/10\n",
      "\u001b[1m432/432\u001b[0m \u001b[32m━━━━━━━━━━━━━━━━━━━━\u001b[0m\u001b[37m\u001b[0m \u001b[1m11s\u001b[0m 25ms/step - accuracy: 0.8147 - loss: 0.6293 - val_accuracy: 0.8395 - val_loss: 0.5329 - learning_rate: 2.5000e-05\n",
      "Epoch 4/10\n",
      "\u001b[1m432/432\u001b[0m \u001b[32m━━━━━━━━━━━━━━━━━━━━\u001b[0m\u001b[37m\u001b[0m \u001b[1m11s\u001b[0m 25ms/step - accuracy: 0.8288 - loss: 0.5902 - val_accuracy: 0.8342 - val_loss: 0.5362 - learning_rate: 1.2500e-05\n"
     ]
    }
   ],
   "source": [
    "# compile\n",
    "\n",
    "OptimizedLSTM.compile(\n",
    "    loss='categorical_crossentropy',\n",
    "    optimizer=Adam(learning_rate=0.0001, clipnorm=1.0),\n",
    "    metrics=['accuracy']\n",
    ")\n",
    "\n",
    "early_stopping = EarlyStopping(monitor='val_loss', patience=3, restore_best_weights=True)\n",
    "reduce_lr = ReduceLROnPlateau(monitor='val_loss', factor=0.5, patience=2)\n",
    "\n",
    "kf = StratifiedKFold(n_splits=3, shuffle=True, random_state=42)\n",
    "\n",
    "for fold, (train_idx, val_idx) in enumerate(kf.split(X_train, y_train.argmax(axis=1)), 1):\n",
    "    print(f\"\\n🔹 Training Fold {fold}...\")\n",
    "\n",
    "    X_train_kf, X_val_kf = X_train[train_idx], X_train[val_idx]\n",
    "    y_train_kf, y_val_kf = y_train[train_idx], y_train[val_idx]\n",
    "\n",
    "    history = OptimizedLSTM.fit(\n",
    "        X_train_kf, y_train_kf,\n",
    "        epochs=10,\n",
    "        batch_size=32,\n",
    "        validation_data=(X_val_kf, y_val_kf),\n",
    "        callbacks=[early_stopping, reduce_lr]\n",
    "    )\n",
    "\n",
    "\n"
   ]
  },
  {
   "cell_type": "code",
   "execution_count": null,
   "metadata": {
    "colab": {
     "base_uri": "https://localhost:8080/"
    },
    "executionInfo": {
     "elapsed": 126,
     "status": "ok",
     "timestamp": 1742508651911,
     "user": {
      "displayName": "Zanib Batool",
      "userId": "03316028306774710875"
     },
     "user_tz": -180
    },
    "id": "UynxGzPPkxPc",
    "outputId": "3621c4e1-8b98-4bbe-ec1c-a03065b52460"
   },
   "outputs": [
    {
     "name": "stdout",
     "output_type": "stream",
     "text": [
      "model saved\n"
     ]
    }
   ],
   "source": [
    "OptimizedLSTM.save(\"OptimizedLSTM_Model.keras\")\n",
    "print(\"model saved\")"
   ]
  },
  {
   "cell_type": "code",
   "execution_count": null,
   "metadata": {
    "colab": {
     "base_uri": "https://localhost:8080/"
    },
    "executionInfo": {
     "elapsed": 1889,
     "status": "ok",
     "timestamp": 1742508653804,
     "user": {
      "displayName": "Zanib Batool",
      "userId": "03316028306774710875"
     },
     "user_tz": -180
    },
    "id": "EN7sCtB5k5Wv",
    "outputId": "1d1b3683-d0db-4152-b3a0-5e7b8148c19e"
   },
   "outputs": [
    {
     "name": "stdout",
     "output_type": "stream",
     "text": [
      "\u001b[1m216/216\u001b[0m \u001b[32m━━━━━━━━━━━━━━━━━━━━\u001b[0m\u001b[37m\u001b[0m \u001b[1m2s\u001b[0m 8ms/step - accuracy: 0.8570 - loss: 0.5230\n",
      "Final Test Accuracy: 0.8560\n"
     ]
    }
   ],
   "source": [
    "loss, accuracy = OptimizedLSTM.evaluate(X_val_kf, y_val_kf)\n",
    "print(f\"Final Test Accuracy: {accuracy:.4f}\")"
   ]
  },
  {
   "cell_type": "code",
   "execution_count": null,
   "metadata": {
    "colab": {
     "base_uri": "https://localhost:8080/",
     "height": 724
    },
    "executionInfo": {
     "elapsed": 2246,
     "status": "ok",
     "timestamp": 1742508656053,
     "user": {
      "displayName": "Zanib Batool",
      "userId": "03316028306774710875"
     },
     "user_tz": -180
    },
    "id": "wIh0xbvGk_q5",
    "outputId": "b3df567f-b126-41df-8149-22bdb7ec5279"
   },
   "outputs": [
    {
     "name": "stdout",
     "output_type": "stream",
     "text": [
      "\u001b[1m162/162\u001b[0m \u001b[32m━━━━━━━━━━━━━━━━━━━━\u001b[0m\u001b[37m\u001b[0m \u001b[1m2s\u001b[0m 9ms/step\n"
     ]
    },
    {
     "data": {
      "image/png": "[encoded data removed]",
      "text/plain": [
       "<Figure size 600x500 with 2 Axes>"
      ]
     },
     "metadata": {},
     "output_type": "display_data"
    },
    {
     "name": "stdout",
     "output_type": "stream",
     "text": [
      "\n",
      "🔹 Classification Report:\n",
      "              precision    recall  f1-score   support\n",
      "\n",
      "   happiness       0.52      0.52      0.52      1727\n",
      "     neutral       0.52      0.52      0.52      1728\n",
      "     sadness       0.51      0.52      0.52      1728\n",
      "\n",
      "    accuracy                           0.52      5183\n",
      "   macro avg       0.52      0.52      0.52      5183\n",
      "weighted avg       0.52      0.52      0.52      5183\n",
      "\n"
     ]
    }
   ],
   "source": [
    "y_pred = OptimizedLSTM.predict(X_test)\n",
    "y_pred_classes = np.argmax(y_pred, axis=1)\n",
    "y_true_classes = np.argmax(y_test, axis=1)\n",
    "\n",
    "#confusion matrix\n",
    "cm = confusion_matrix(y_true_classes, y_pred_classes)\n",
    "labels = label_encoder.classes_\n",
    "\n",
    "plt.figure(figsize=(6,5))\n",
    "sns.heatmap(cm, annot=True, fmt='d', cmap='Blues', xticklabels=labels, yticklabels=labels)\n",
    "plt.xlabel('Predicted')\n",
    "plt.ylabel('Actual')\n",
    "plt.title('Confusion Matrix')\n",
    "plt.show()\n",
    "\n",
    "#classification report\n",
    "print(\"\\n🔹 Classification Report:\")\n",
    "print(classification_report(y_true_classes, y_pred_classes, target_names=labels))\n"
   ]
  },
  {
   "cell_type": "code",
   "execution_count": null,
   "metadata": {
    "colab": {
     "base_uri": "https://localhost:8080/",
     "height": 487
    },
    "executionInfo": {
     "elapsed": 387,
     "status": "ok",
     "timestamp": 1742508656448,
     "user": {
      "displayName": "Zanib Batool",
      "userId": "03316028306774710875"
     },
     "user_tz": -180
    },
    "id": "9Rr1Qva-mVLU",
    "outputId": "59d95435-2ad7-4cb9-aac3-dc8d7ffee262"
   },
   "outputs": [
    {
     "data": {
      "image/png": "[encoded data removed]",
      "text/plain": [
       "<Figure size 800x500 with 1 Axes>"
      ]
     },
     "metadata": {},
     "output_type": "display_data"
    }
   ],
   "source": [
    "\n",
    "plt.figure(figsize=(8, 5))\n",
    "plt.plot(history.history['accuracy'], label='Training Accuracy', marker='o')\n",
    "plt.plot(history.history['val_accuracy'], label='Validation Accuracy', marker='o')\n",
    "plt.xlabel('Epochs')\n",
    "plt.ylabel('Accuracy')\n",
    "plt.title('Training vs. Validation Accuracy')\n",
    "plt.legend()\n",
    "plt.grid()\n",
    "plt.show()"
   ]
  },
  {
   "cell_type": "code",
   "execution_count": null,
   "metadata": {
    "id": "fm1Mm1h0nd5x"
   },
   "outputs": [],
   "source": [
    "\n",
    "from tensorflow.keras.models import load_model\n",
    "loaded_model = load_model(\"OptimizedLSTM_Model.keras\")\n",
    "print(\"\\n✅ Model loaded successfully!\")"
   ]
  },
  {
   "cell_type": "code",
   "execution_count": null,
   "metadata": {
    "id": "PUHdgIeUnib-"
   },
   "outputs": [],
   "source": [
    "# Sentiment prediction function\n",
    "def predict_sentiment(text):\n",
    "\n",
    "    processed_text = clean_text(text)\n",
    "\n",
    "    text_seq = tokenizer.texts_to_sequences([processed_text])\n",
    "    text_pad = pad_sequences(text_seq, maxlen=max_len)\n",
    "\n",
    "    prediction = loaded_model.predict(text_pad)\n",
    "    predicted_class = np.argmax(prediction)\n",
    "    predicted_label = label_encoder.inverse_transform([predicted_class])\n",
    "\n",
    "    print(f\"\\n🔹 Predicted Sentiment: {predicted_label[0]}\")\n",
    "\n",
    "\n",
    "new_tweet = \"i am feeling gloomy\"\n",
    "predict_sentiment(new_tweet)\n"
   ]
  }
 ],
 "metadata": {
  "accelerator": "GPU",
  "colab": {
   "authorship_tag": "ABX9TyMS/VMEFQ55BMQ4rZYl/a1W",
   "gpuType": "L4",
   "machine_shape": "hm",
   "provenance": []
  },
  "kernelspec": {
   "display_name": "Python 3",
   "name": "python3"
  },
  "language_info": {
   "name": "python"
  }
 },
 "nbformat": 4,
 "nbformat_minor": 0
}
