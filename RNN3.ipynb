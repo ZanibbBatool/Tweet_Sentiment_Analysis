{
 "cells": [
  {
   "cell_type": "code",
   "execution_count": null,
   "metadata": {
    "id": "XCl8HifNiNf1"
   },
   "outputs": [],
   "source": [
    "from google.colab import drive\n",
    "import tensorflow as tf\n",
    "import numpy as np\n",
    "import pandas as pd\n",
    "import re\n",
    "import matplotlib.pyplot as plt\n",
    "import seaborn as sns\n",
    "from tensorflow.keras.models import Sequential\n",
    "from tensorflow.keras.layers import Input, Dense, Dropout, Embedding, SimpleRNN, LayerNormalization, Bidirectional\n",
    "from tensorflow.keras.preprocessing.text import Tokenizer\n",
    "from tensorflow.keras.preprocessing.sequence import pad_sequences\n",
    "from tensorflow.keras.regularizers import l2\n",
    "from tensorflow.keras.optimizers import Adam\n",
    "from tensorflow.keras.callbacks import EarlyStopping, ReduceLROnPlateau\n",
    "from sklearn.model_selection import train_test_split, StratifiedKFold\n",
    "from sklearn.preprocessing import LabelEncoder\n",
    "from sklearn.metrics import confusion_matrix, classification_report\n",
    "from imblearn.over_sampling import SMOTE"
   ]
  },
  {
   "cell_type": "code",
   "execution_count": null,
   "metadata": {
    "colab": {
     "base_uri": "https://localhost:8080/"
    },
    "executionInfo": {
     "elapsed": 26478,
     "status": "ok",
     "timestamp": 1742507696033,
     "user": {
      "displayName": "Zanib Batool",
      "userId": "03316028306774710875"
     },
     "user_tz": -180
    },
    "id": "3hpJ4PHYiaZG",
    "outputId": "f3750372-f250-42a3-d4cd-4f383990ec75"
   },
   "outputs": [
    {
     "name": "stdout",
     "output_type": "stream",
     "text": [
      "Mounted at /content/drive\n"
     ]
    }
   ],
   "source": [
    "drive.mount(\"/content/drive\")"
   ]
  },
  {
   "cell_type": "code",
   "execution_count": null,
   "metadata": {
    "colab": {
     "base_uri": "https://localhost:8080/"
    },
    "executionInfo": {
     "elapsed": 1335,
     "status": "ok",
     "timestamp": 1742507699685,
     "user": {
      "displayName": "Zanib Batool",
      "userId": "03316028306774710875"
     },
     "user_tz": -180
    },
    "id": "j1Rt7NGXikGM",
    "outputId": "8b4865a9-3b39-436e-8939-39b417789684"
   },
   "outputs": [
    {
     "name": "stdout",
     "output_type": "stream",
     "text": [
      "Sample Tweets:\n",
      "\n",
      "       sentiment                                            content\n",
      "26122    neutral  Got home from audition awhile ago. I think it ...\n",
      "23017  happiness                            cant wait for thursday!\n",
      "28728    neutral  @tccrt3r heyy! @RayleneOrnelas told me to foll...\n",
      "3806     sadness  @C_J_Stuart Unfortunately not yet, I am still ...\n",
      "20867    neutral  @annyo84 we will!  we shall meet somewhere bet...\n"
     ]
    }
   ],
   "source": [
    "# dataset load and filter\n",
    "file_path = \"tweet_emotions.csv/tweet_emotions.csv\"\n",
    "df = pd.read_csv(file_path)\n",
    "\n",
    "selected_categories = [\"sadness\", \"neutral\", \"happiness\"]\n",
    "df_filtered = df[df[\"sentiment\"].isin(selected_categories)]\n",
    "\n",
    "print(\"Sample Tweets:\\n\")\n",
    "print(df_filtered[[\"sentiment\", \"content\"]].sample(5, random_state=42))\n"
   ]
  },
  {
   "cell_type": "code",
   "execution_count": null,
   "metadata": {
    "colab": {
     "base_uri": "https://localhost:8080/"
    },
    "executionInfo": {
     "elapsed": 13,
     "status": "ok",
     "timestamp": 1742507706150,
     "user": {
      "displayName": "Zanib Batool",
      "userId": "03316028306774710875"
     },
     "user_tz": -180
    },
    "id": "-8evwJjboOrB",
    "outputId": "1edd78f4-3058-4d9d-e1fb-1d26fd8b3915"
   },
   "outputs": [
    {
     "name": "stdout",
     "output_type": "stream",
     "text": [
      "Sentiment Label Distribution:\n",
      "\n",
      "sentiment\n",
      "neutral      8638\n",
      "happiness    5209\n",
      "sadness      5165\n",
      "Name: count, dtype: int64\n",
      "\n",
      "Missing Values Check:\n",
      "\n",
      "tweet_id     0\n",
      "sentiment    0\n",
      "content      0\n",
      "dtype: int64\n"
     ]
    }
   ],
   "source": [
    "# class distribution\n",
    "sentiment_counts = df_filtered[\"sentiment\"].value_counts()\n",
    "\n",
    "# number of occurences\n",
    "print(\"Sentiment Label Distribution:\\n\")\n",
    "print(sentiment_counts)\n",
    "\n",
    "# missing values\n",
    "print(\"\\nMissing Values Check:\\n\")\n",
    "print(df_filtered[[\"tweet_id\", \"sentiment\", \"content\"]].isnull().sum())"
   ]
  },
  {
   "cell_type": "code",
   "execution_count": null,
   "metadata": {
    "colab": {
     "base_uri": "https://localhost:8080/"
    },
    "executionInfo": {
     "elapsed": 14,
     "status": "ok",
     "timestamp": 1742507708841,
     "user": {
      "displayName": "Zanib Batool",
      "userId": "03316028306774710875"
     },
     "user_tz": -180
    },
    "id": "BnEN7SjdjD2d",
    "outputId": "0c956e67-d155-4a02-f38f-53c6fb8e46da"
   },
   "outputs": [
    {
     "name": "stdout",
     "output_type": "stream",
     "text": [
      "cleaned data samples\n",
      "['layin n bed with a headache  ughhhhwaitin on your call', 'funeral ceremonygloomy friday', 'we want to trade with someone who has houston tickets but no one will', 'i should be sleep but im not thinking about an old friend who i want but hes married now damn amp he wants me  scandalous', 'charlene my love i miss you']\n"
     ]
    }
   ],
   "source": [
    "# text cleaning\n",
    "def clean_text(text):\n",
    "    text = re.sub(r\"http\\S+|www\\S+|https\\S+\", '', text)\n",
    "    text = re.sub(r'\\@\\w+', '', text)\n",
    "    text = re.sub(r'[^a-zA-Z ]', '', text)\n",
    "    return text.lower().strip()\n",
    "\n",
    "df_filtered.loc[:, \"content\"] = df_filtered[\"content\"].apply(clean_text)\n",
    "\n",
    "texts = df_filtered[\"content\"].values\n",
    "labels = df_filtered[\"sentiment\"].values\n",
    "\n",
    "label_encoder = LabelEncoder()\n",
    "labels_encoded = label_encoder.fit_transform(labels)\n",
    "\n",
    "print(\"cleaned data samples\")\n",
    "print(df_filtered[\"content\"].iloc[:5].tolist())\n"
   ]
  },
  {
   "cell_type": "code",
   "execution_count": null,
   "metadata": {
    "id": "L1et2j_2jPdX"
   },
   "outputs": [],
   "source": [
    "# Tokenization\n",
    "max_words = 10000\n",
    "max_len = 100\n",
    "\n",
    "tokenizer = Tokenizer(num_words=max_words, oov_token=\"<OOV>\")\n",
    "tokenizer.fit_on_texts(texts)\n",
    "\n",
    "sequences = tokenizer.texts_to_sequences(texts)\n",
    "sequences = [[min(word_idx, max_words - 1) for word_idx in seq] for seq in sequences]\n",
    "padded_sequences = pad_sequences(sequences, maxlen=max_len, padding=\"post\", truncating=\"post\")"
   ]
  },
  {
   "cell_type": "code",
   "execution_count": null,
   "metadata": {
    "colab": {
     "base_uri": "https://localhost:8080/"
    },
    "executionInfo": {
     "elapsed": 900,
     "status": "ok",
     "timestamp": 1742476211748,
     "user": {
      "displayName": "Zanib Batool",
      "userId": "03316028306774710875"
     },
     "user_tz": -180
    },
    "id": "kkbvEr5ujSWz",
    "outputId": "75eb3949-cca5-463d-bc77-59867ab76712"
   },
   "outputs": [
    {
     "name": "stdout",
     "output_type": "stream",
     "text": [
      "\n",
      "🔹 Class Distribution Before SMOTE:\n",
      "  Class 2 (sadness): 5165 samples\n",
      "  Class 1 (neutral): 8638 samples\n",
      "  Class 0 (happiness): 5209 samples\n",
      "\n",
      "✅ Class Distribution After SMOTE:\n",
      "  Class 2 (sadness): 8638 samples\n",
      "  Class 1 (neutral): 8638 samples\n",
      "  Class 0 (happiness): 8638 samples\n"
     ]
    }
   ],
   "source": [
    "from collections import Counter\n",
    "\n",
    "# original class distribution\n",
    "print(\"\\n🔹 Class Distribution Before SMOTE:\")\n",
    "original_counts = Counter(labels_encoded)\n",
    "for class_label, count in original_counts.items():\n",
    "    print(f\"  Class {class_label} ({label_encoder.classes_[class_label]}): {count} samples\")\n",
    "\n",
    "#SMOTE oversampling\n",
    "smote = SMOTE(random_state=42)\n",
    "X_resampled, y_resampled = smote.fit_resample(padded_sequences, labels_encoded)\n",
    "\n",
    "y_resampled_cat = tf.keras.utils.to_categorical(y_resampled, num_classes=3)\n",
    "\n",
    "#class distribution after SMOTE\n",
    "print(\"\\n✅ Class Distribution After SMOTE:\")\n",
    "resampled_counts = Counter(y_resampled)\n",
    "for class_label, count in resampled_counts.items():\n",
    "    print(f\"  Class {class_label} ({label_encoder.classes_[class_label]}): {count} samples\")\n",
    "\n",
    "# split into train and test sets\n",
    "X_train, X_test, y_train, y_test = train_test_split(\n",
    "    X_resampled, y_resampled_cat, test_size=0.2, random_state=42, stratify=y_resampled\n",
    ")\n",
    "\n"
   ]
  },
  {
   "cell_type": "code",
   "execution_count": null,
   "metadata": {
    "colab": {
     "base_uri": "https://localhost:8080/",
     "height": 401
    },
    "executionInfo": {
     "elapsed": 1647,
     "status": "ok",
     "timestamp": 1742476214134,
     "user": {
      "displayName": "Zanib Batool",
      "userId": "03316028306774710875"
     },
     "user_tz": -180
    },
    "id": "q7SADrljjpwY",
    "outputId": "1e369c09-22ea-496c-beda-798880d83106"
   },
   "outputs": [
    {
     "data": {
      "text/html": [
       "<pre style=\"white-space:pre;overflow-x:auto;line-height:normal;font-family:Menlo,'DejaVu Sans Mono',consolas,'Courier New',monospace\"><span style=\"font-weight: bold\">Model: \"sequential\"</span>\n",
       "</pre>\n"
      ],
      "text/plain": [
       "\u001b[1mModel: \"sequential\"\u001b[0m\n"
      ]
     },
     "metadata": {},
     "output_type": "display_data"
    },
    {
     "data": {
      "text/html": [
       "<pre style=\"white-space:pre;overflow-x:auto;line-height:normal;font-family:Menlo,'DejaVu Sans Mono',consolas,'Courier New',monospace\">┏━━━━━━━━━━━━━━━━━━━━━━━━━━━━━━━━━━━━━━┳━━━━━━━━━━━━━━━━━━━━━━━━━━━━━┳━━━━━━━━━━━━━━━━━┓\n",
       "┃<span style=\"font-weight: bold\"> Layer (type)                         </span>┃<span style=\"font-weight: bold\"> Output Shape                </span>┃<span style=\"font-weight: bold\">         Param # </span>┃\n",
       "┡━━━━━━━━━━━━━━━━━━━━━━━━━━━━━━━━━━━━━━╇━━━━━━━━━━━━━━━━━━━━━━━━━━━━━╇━━━━━━━━━━━━━━━━━┩\n",
       "│ embedding (<span style=\"color: #0087ff; text-decoration-color: #0087ff\">Embedding</span>)                │ (<span style=\"color: #00d7ff; text-decoration-color: #00d7ff\">None</span>, <span style=\"color: #00af00; text-decoration-color: #00af00\">100</span>, <span style=\"color: #00af00; text-decoration-color: #00af00\">128</span>)            │       <span style=\"color: #00af00; text-decoration-color: #00af00\">1,280,000</span> │\n",
       "├──────────────────────────────────────┼─────────────────────────────┼─────────────────┤\n",
       "│ bidirectional (<span style=\"color: #0087ff; text-decoration-color: #0087ff\">Bidirectional</span>)        │ (<span style=\"color: #00d7ff; text-decoration-color: #00d7ff\">None</span>, <span style=\"color: #00af00; text-decoration-color: #00af00\">100</span>, <span style=\"color: #00af00; text-decoration-color: #00af00\">256</span>)            │          <span style=\"color: #00af00; text-decoration-color: #00af00\">65,792</span> │\n",
       "├──────────────────────────────────────┼─────────────────────────────┼─────────────────┤\n",
       "│ layer_normalization                  │ (<span style=\"color: #00d7ff; text-decoration-color: #00d7ff\">None</span>, <span style=\"color: #00af00; text-decoration-color: #00af00\">100</span>, <span style=\"color: #00af00; text-decoration-color: #00af00\">256</span>)            │             <span style=\"color: #00af00; text-decoration-color: #00af00\">512</span> │\n",
       "│ (<span style=\"color: #0087ff; text-decoration-color: #0087ff\">LayerNormalization</span>)                 │                             │                 │\n",
       "├──────────────────────────────────────┼─────────────────────────────┼─────────────────┤\n",
       "│ bidirectional_1 (<span style=\"color: #0087ff; text-decoration-color: #0087ff\">Bidirectional</span>)      │ (<span style=\"color: #00d7ff; text-decoration-color: #00d7ff\">None</span>, <span style=\"color: #00af00; text-decoration-color: #00af00\">128</span>)                 │          <span style=\"color: #00af00; text-decoration-color: #00af00\">41,088</span> │\n",
       "├──────────────────────────────────────┼─────────────────────────────┼─────────────────┤\n",
       "│ dense (<span style=\"color: #0087ff; text-decoration-color: #0087ff\">Dense</span>)                        │ (<span style=\"color: #00d7ff; text-decoration-color: #00d7ff\">None</span>, <span style=\"color: #00af00; text-decoration-color: #00af00\">128</span>)                 │          <span style=\"color: #00af00; text-decoration-color: #00af00\">16,512</span> │\n",
       "├──────────────────────────────────────┼─────────────────────────────┼─────────────────┤\n",
       "│ dropout (<span style=\"color: #0087ff; text-decoration-color: #0087ff\">Dropout</span>)                    │ (<span style=\"color: #00d7ff; text-decoration-color: #00d7ff\">None</span>, <span style=\"color: #00af00; text-decoration-color: #00af00\">128</span>)                 │               <span style=\"color: #00af00; text-decoration-color: #00af00\">0</span> │\n",
       "├──────────────────────────────────────┼─────────────────────────────┼─────────────────┤\n",
       "│ dense_1 (<span style=\"color: #0087ff; text-decoration-color: #0087ff\">Dense</span>)                      │ (<span style=\"color: #00d7ff; text-decoration-color: #00d7ff\">None</span>, <span style=\"color: #00af00; text-decoration-color: #00af00\">32</span>)                  │           <span style=\"color: #00af00; text-decoration-color: #00af00\">4,128</span> │\n",
       "├──────────────────────────────────────┼─────────────────────────────┼─────────────────┤\n",
       "│ dense_2 (<span style=\"color: #0087ff; text-decoration-color: #0087ff\">Dense</span>)                      │ (<span style=\"color: #00d7ff; text-decoration-color: #00d7ff\">None</span>, <span style=\"color: #00af00; text-decoration-color: #00af00\">3</span>)                   │              <span style=\"color: #00af00; text-decoration-color: #00af00\">99</span> │\n",
       "└──────────────────────────────────────┴─────────────────────────────┴─────────────────┘\n",
       "</pre>\n"
      ],
      "text/plain": [
       "┏━━━━━━━━━━━━━━━━━━━━━━━━━━━━━━━━━━━━━━┳━━━━━━━━━━━━━━━━━━━━━━━━━━━━━┳━━━━━━━━━━━━━━━━━┓\n",
       "┃\u001b[1m \u001b[0m\u001b[1mLayer (type)                        \u001b[0m\u001b[1m \u001b[0m┃\u001b[1m \u001b[0m\u001b[1mOutput Shape               \u001b[0m\u001b[1m \u001b[0m┃\u001b[1m \u001b[0m\u001b[1m        Param #\u001b[0m\u001b[1m \u001b[0m┃\n",
       "┡━━━━━━━━━━━━━━━━━━━━━━━━━━━━━━━━━━━━━━╇━━━━━━━━━━━━━━━━━━━━━━━━━━━━━╇━━━━━━━━━━━━━━━━━┩\n",
       "│ embedding (\u001b[38;5;33mEmbedding\u001b[0m)                │ (\u001b[38;5;45mNone\u001b[0m, \u001b[38;5;34m100\u001b[0m, \u001b[38;5;34m128\u001b[0m)            │       \u001b[38;5;34m1,280,000\u001b[0m │\n",
       "├──────────────────────────────────────┼─────────────────────────────┼─────────────────┤\n",
       "│ bidirectional (\u001b[38;5;33mBidirectional\u001b[0m)        │ (\u001b[38;5;45mNone\u001b[0m, \u001b[38;5;34m100\u001b[0m, \u001b[38;5;34m256\u001b[0m)            │          \u001b[38;5;34m65,792\u001b[0m │\n",
       "├──────────────────────────────────────┼─────────────────────────────┼─────────────────┤\n",
       "│ layer_normalization                  │ (\u001b[38;5;45mNone\u001b[0m, \u001b[38;5;34m100\u001b[0m, \u001b[38;5;34m256\u001b[0m)            │             \u001b[38;5;34m512\u001b[0m │\n",
       "│ (\u001b[38;5;33mLayerNormalization\u001b[0m)                 │                             │                 │\n",
       "├──────────────────────────────────────┼─────────────────────────────┼─────────────────┤\n",
       "│ bidirectional_1 (\u001b[38;5;33mBidirectional\u001b[0m)      │ (\u001b[38;5;45mNone\u001b[0m, \u001b[38;5;34m128\u001b[0m)                 │          \u001b[38;5;34m41,088\u001b[0m │\n",
       "├──────────────────────────────────────┼─────────────────────────────┼─────────────────┤\n",
       "│ dense (\u001b[38;5;33mDense\u001b[0m)                        │ (\u001b[38;5;45mNone\u001b[0m, \u001b[38;5;34m128\u001b[0m)                 │          \u001b[38;5;34m16,512\u001b[0m │\n",
       "├──────────────────────────────────────┼─────────────────────────────┼─────────────────┤\n",
       "│ dropout (\u001b[38;5;33mDropout\u001b[0m)                    │ (\u001b[38;5;45mNone\u001b[0m, \u001b[38;5;34m128\u001b[0m)                 │               \u001b[38;5;34m0\u001b[0m │\n",
       "├──────────────────────────────────────┼─────────────────────────────┼─────────────────┤\n",
       "│ dense_1 (\u001b[38;5;33mDense\u001b[0m)                      │ (\u001b[38;5;45mNone\u001b[0m, \u001b[38;5;34m32\u001b[0m)                  │           \u001b[38;5;34m4,128\u001b[0m │\n",
       "├──────────────────────────────────────┼─────────────────────────────┼─────────────────┤\n",
       "│ dense_2 (\u001b[38;5;33mDense\u001b[0m)                      │ (\u001b[38;5;45mNone\u001b[0m, \u001b[38;5;34m3\u001b[0m)                   │              \u001b[38;5;34m99\u001b[0m │\n",
       "└──────────────────────────────────────┴─────────────────────────────┴─────────────────┘\n"
      ]
     },
     "metadata": {},
     "output_type": "display_data"
    },
    {
     "data": {
      "text/html": [
       "<pre style=\"white-space:pre;overflow-x:auto;line-height:normal;font-family:Menlo,'DejaVu Sans Mono',consolas,'Courier New',monospace\"><span style=\"font-weight: bold\"> Total params: </span><span style=\"color: #00af00; text-decoration-color: #00af00\">1,408,131</span> (5.37 MB)\n",
       "</pre>\n"
      ],
      "text/plain": [
       "\u001b[1m Total params: \u001b[0m\u001b[38;5;34m1,408,131\u001b[0m (5.37 MB)\n"
      ]
     },
     "metadata": {},
     "output_type": "display_data"
    },
    {
     "data": {
      "text/html": [
       "<pre style=\"white-space:pre;overflow-x:auto;line-height:normal;font-family:Menlo,'DejaVu Sans Mono',consolas,'Courier New',monospace\"><span style=\"font-weight: bold\"> Trainable params: </span><span style=\"color: #00af00; text-decoration-color: #00af00\">1,408,131</span> (5.37 MB)\n",
       "</pre>\n"
      ],
      "text/plain": [
       "\u001b[1m Trainable params: \u001b[0m\u001b[38;5;34m1,408,131\u001b[0m (5.37 MB)\n"
      ]
     },
     "metadata": {},
     "output_type": "display_data"
    },
    {
     "data": {
      "text/html": [
       "<pre style=\"white-space:pre;overflow-x:auto;line-height:normal;font-family:Menlo,'DejaVu Sans Mono',consolas,'Courier New',monospace\"><span style=\"font-weight: bold\"> Non-trainable params: </span><span style=\"color: #00af00; text-decoration-color: #00af00\">0</span> (0.00 B)\n",
       "</pre>\n"
      ],
      "text/plain": [
       "\u001b[1m Non-trainable params: \u001b[0m\u001b[38;5;34m0\u001b[0m (0.00 B)\n"
      ]
     },
     "metadata": {},
     "output_type": "display_data"
    }
   ],
   "source": [
    "# model building\n",
    "OptimizedRNN = Sequential([\n",
    "    Input(shape=(max_len,)),\n",
    "    Embedding(input_dim=max_words, output_dim=128),\n",
    "    Bidirectional(SimpleRNN(128, return_sequences=True)),\n",
    "    LayerNormalization(),\n",
    "    Bidirectional(SimpleRNN(64)),\n",
    "    Dense(128, activation='relu', kernel_regularizer=l2(0.01)),\n",
    "    Dropout(0.5),\n",
    "    Dense(32, activation='relu', kernel_regularizer=l2(0.01), use_bias=True),\n",
    "    Dense(3, activation='softmax', use_bias=True)\n",
    "])\n",
    "\n",
    "OptimizedRNN.summary()\n"
   ]
  },
  {
   "cell_type": "code",
   "execution_count": null,
   "metadata": {
    "colab": {
     "base_uri": "https://localhost:8080/"
    },
    "executionInfo": {
     "elapsed": 319236,
     "status": "ok",
     "timestamp": 1742476533372,
     "user": {
      "displayName": "Zanib Batool",
      "userId": "03316028306774710875"
     },
     "user_tz": -180
    },
    "id": "tz0DW6MCjETB",
    "outputId": "5fc4bbab-d331-4fbd-8084-6123d0c482ae"
   },
   "outputs": [
    {
     "name": "stdout",
     "output_type": "stream",
     "text": [
      "\n",
      "🔹 Training Fold 1...\n",
      "Epoch 1/10\n",
      "\u001b[1m432/432\u001b[0m \u001b[32m━━━━━━━━━━━━━━━━━━━━\u001b[0m\u001b[37m\u001b[0m \u001b[1m33s\u001b[0m 49ms/step - accuracy: 0.3470 - loss: 2.8043 - val_accuracy: 0.4005 - val_loss: 2.3908 - learning_rate: 1.0000e-04\n",
      "Epoch 2/10\n",
      "\u001b[1m432/432\u001b[0m \u001b[32m━━━━━━━━━━━━━━━━━━━━\u001b[0m\u001b[37m\u001b[0m \u001b[1m12s\u001b[0m 28ms/step - accuracy: 0.3954 - loss: 2.2908 - val_accuracy: 0.4031 - val_loss: 2.0127 - learning_rate: 1.0000e-04\n",
      "Epoch 3/10\n",
      "\u001b[1m432/432\u001b[0m \u001b[32m━━━━━━━━━━━━━━━━━━━━\u001b[0m\u001b[37m\u001b[0m \u001b[1m12s\u001b[0m 28ms/step - accuracy: 0.4493 - loss: 1.9198 - val_accuracy: 0.4481 - val_loss: 1.7422 - learning_rate: 1.0000e-04\n",
      "Epoch 4/10\n",
      "\u001b[1m432/432\u001b[0m \u001b[32m━━━━━━━━━━━━━━━━━━━━\u001b[0m\u001b[37m\u001b[0m \u001b[1m12s\u001b[0m 28ms/step - accuracy: 0.5471 - loss: 1.6070 - val_accuracy: 0.4603 - val_loss: 1.6014 - learning_rate: 1.0000e-04\n",
      "Epoch 5/10\n",
      "\u001b[1m432/432\u001b[0m \u001b[32m━━━━━━━━━━━━━━━━━━━━\u001b[0m\u001b[37m\u001b[0m \u001b[1m12s\u001b[0m 28ms/step - accuracy: 0.6306 - loss: 1.3533 - val_accuracy: 0.4593 - val_loss: 1.5505 - learning_rate: 1.0000e-04\n",
      "Epoch 6/10\n",
      "\u001b[1m432/432\u001b[0m \u001b[32m━━━━━━━━━━━━━━━━━━━━\u001b[0m\u001b[37m\u001b[0m \u001b[1m12s\u001b[0m 28ms/step - accuracy: 0.7302 - loss: 1.1035 - val_accuracy: 0.4611 - val_loss: 1.6034 - learning_rate: 1.0000e-04\n",
      "Epoch 7/10\n",
      "\u001b[1m432/432\u001b[0m \u001b[32m━━━━━━━━━━━━━━━━━━━━\u001b[0m\u001b[37m\u001b[0m \u001b[1m12s\u001b[0m 28ms/step - accuracy: 0.8143 - loss: 0.8781 - val_accuracy: 0.4645 - val_loss: 1.7092 - learning_rate: 1.0000e-04\n",
      "Epoch 8/10\n",
      "\u001b[1m432/432\u001b[0m \u001b[32m━━━━━━━━━━━━━━━━━━━━\u001b[0m\u001b[37m\u001b[0m \u001b[1m12s\u001b[0m 28ms/step - accuracy: 0.8706 - loss: 0.7006 - val_accuracy: 0.4552 - val_loss: 1.8426 - learning_rate: 5.0000e-05\n",
      "\n",
      "🔹 Training Fold 2...\n",
      "Epoch 1/10\n",
      "\u001b[1m432/432\u001b[0m \u001b[32m━━━━━━━━━━━━━━━━━━━━\u001b[0m\u001b[37m\u001b[0m \u001b[1m20s\u001b[0m 46ms/step - accuracy: 0.6004 - loss: 1.3306 - val_accuracy: 0.7433 - val_loss: 1.0795 - learning_rate: 5.0000e-05\n",
      "Epoch 2/10\n",
      "\u001b[1m432/432\u001b[0m \u001b[32m━━━━━━━━━━━━━━━━━━━━\u001b[0m\u001b[37m\u001b[0m \u001b[1m12s\u001b[0m 28ms/step - accuracy: 0.6565 - loss: 1.1974 - val_accuracy: 0.7438 - val_loss: 1.0083 - learning_rate: 5.0000e-05\n",
      "Epoch 3/10\n",
      "\u001b[1m432/432\u001b[0m \u001b[32m━━━━━━━━━━━━━━━━━━━━\u001b[0m\u001b[37m\u001b[0m \u001b[1m12s\u001b[0m 28ms/step - accuracy: 0.7167 - loss: 1.0678 - val_accuracy: 0.7360 - val_loss: 0.9694 - learning_rate: 5.0000e-05\n",
      "Epoch 4/10\n",
      "\u001b[1m432/432\u001b[0m \u001b[32m━━━━━━━━━━━━━━━━━━━━\u001b[0m\u001b[37m\u001b[0m \u001b[1m12s\u001b[0m 28ms/step - accuracy: 0.7681 - loss: 0.9388 - val_accuracy: 0.7323 - val_loss: 0.9459 - learning_rate: 5.0000e-05\n",
      "Epoch 5/10\n",
      "\u001b[1m432/432\u001b[0m \u001b[32m━━━━━━━━━━━━━━━━━━━━\u001b[0m\u001b[37m\u001b[0m \u001b[1m12s\u001b[0m 28ms/step - accuracy: 0.8107 - loss: 0.8343 - val_accuracy: 0.7234 - val_loss: 0.9498 - learning_rate: 5.0000e-05\n",
      "Epoch 6/10\n",
      "\u001b[1m432/432\u001b[0m \u001b[32m━━━━━━━━━━━━━━━━━━━━\u001b[0m\u001b[37m\u001b[0m \u001b[1m12s\u001b[0m 28ms/step - accuracy: 0.8531 - loss: 0.7245 - val_accuracy: 0.7210 - val_loss: 0.9557 - learning_rate: 5.0000e-05\n",
      "Epoch 7/10\n",
      "\u001b[1m432/432\u001b[0m \u001b[32m━━━━━━━━━━━━━━━━━━━━\u001b[0m\u001b[37m\u001b[0m \u001b[1m12s\u001b[0m 28ms/step - accuracy: 0.8811 - loss: 0.6393 - val_accuracy: 0.7137 - val_loss: 0.9801 - learning_rate: 2.5000e-05\n",
      "\n",
      "🔹 Training Fold 3...\n",
      "Epoch 1/10\n",
      "\u001b[1m432/432\u001b[0m \u001b[32m━━━━━━━━━━━━━━━━━━━━\u001b[0m\u001b[37m\u001b[0m \u001b[1m12s\u001b[0m 28ms/step - accuracy: 0.7429 - loss: 0.9532 - val_accuracy: 0.8832 - val_loss: 0.6797 - learning_rate: 2.5000e-05\n",
      "Epoch 2/10\n",
      "\u001b[1m432/432\u001b[0m \u001b[32m━━━━━━━━━━━━━━━━━━━━\u001b[0m\u001b[37m\u001b[0m \u001b[1m12s\u001b[0m 28ms/step - accuracy: 0.7730 - loss: 0.8868 - val_accuracy: 0.8781 - val_loss: 0.6627 - learning_rate: 2.5000e-05\n",
      "Epoch 3/10\n",
      "\u001b[1m432/432\u001b[0m \u001b[32m━━━━━━━━━━━━━━━━━━━━\u001b[0m\u001b[37m\u001b[0m \u001b[1m12s\u001b[0m 28ms/step - accuracy: 0.7986 - loss: 0.8283 - val_accuracy: 0.8745 - val_loss: 0.6495 - learning_rate: 2.5000e-05\n",
      "Epoch 4/10\n",
      "\u001b[1m432/432\u001b[0m \u001b[32m━━━━━━━━━━━━━━━━━━━━\u001b[0m\u001b[37m\u001b[0m \u001b[1m12s\u001b[0m 28ms/step - accuracy: 0.8170 - loss: 0.7775 - val_accuracy: 0.8661 - val_loss: 0.6433 - learning_rate: 2.5000e-05\n",
      "Epoch 5/10\n",
      "\u001b[1m432/432\u001b[0m \u001b[32m━━━━━━━━━━━━━━━━━━━━\u001b[0m\u001b[37m\u001b[0m \u001b[1m12s\u001b[0m 28ms/step - accuracy: 0.8424 - loss: 0.7262 - val_accuracy: 0.8618 - val_loss: 0.6381 - learning_rate: 2.5000e-05\n",
      "Epoch 6/10\n",
      "\u001b[1m432/432\u001b[0m \u001b[32m━━━━━━━━━━━━━━━━━━━━\u001b[0m\u001b[37m\u001b[0m \u001b[1m12s\u001b[0m 28ms/step - accuracy: 0.8603 - loss: 0.6691 - val_accuracy: 0.8588 - val_loss: 0.6332 - learning_rate: 2.5000e-05\n",
      "Epoch 7/10\n",
      "\u001b[1m432/432\u001b[0m \u001b[32m━━━━━━━━━━━━━━━━━━━━\u001b[0m\u001b[37m\u001b[0m \u001b[1m12s\u001b[0m 28ms/step - accuracy: 0.8784 - loss: 0.6251 - val_accuracy: 0.8551 - val_loss: 0.6363 - learning_rate: 2.5000e-05\n",
      "Epoch 8/10\n",
      "\u001b[1m432/432\u001b[0m \u001b[32m━━━━━━━━━━━━━━━━━━━━\u001b[0m\u001b[37m\u001b[0m \u001b[1m12s\u001b[0m 28ms/step - accuracy: 0.8957 - loss: 0.5849 - val_accuracy: 0.8499 - val_loss: 0.6417 - learning_rate: 2.5000e-05\n",
      "Epoch 9/10\n",
      "\u001b[1m432/432\u001b[0m \u001b[32m━━━━━━━━━━━━━━━━━━━━\u001b[0m\u001b[37m\u001b[0m \u001b[1m12s\u001b[0m 28ms/step - accuracy: 0.9091 - loss: 0.5364 - val_accuracy: 0.8479 - val_loss: 0.6442 - learning_rate: 1.2500e-05\n"
     ]
    }
   ],
   "source": [
    "# Compile\n",
    "OptimizedRNN.compile(\n",
    "    loss='categorical_crossentropy',\n",
    "    optimizer=Adam(learning_rate=0.0001, clipnorm=1.0),\n",
    "    metrics=['accuracy']\n",
    ")\n",
    "\n",
    "early_stopping = EarlyStopping(monitor='val_loss', patience=3, restore_best_weights=True)\n",
    "reduce_lr = ReduceLROnPlateau(monitor='val_loss', factor=0.5, patience=2)\n",
    "\n",
    "# Cross-validation\n",
    "kf = StratifiedKFold(n_splits=3, shuffle=True, random_state=42)\n",
    "\n",
    "for fold, (train_idx, val_idx) in enumerate(kf.split(X_train, y_train.argmax(axis=1)), 1):\n",
    "    print(f\"\\n🔹 Training Fold {fold}...\")\n",
    "\n",
    "\n",
    "    X_train_kf, X_val_kf = X_train[train_idx], X_train[val_idx]\n",
    "    y_train_kf, y_val_kf = y_train[train_idx], y_train[val_idx]\n",
    "\n",
    "    # Training\n",
    "    history = OptimizedRNN.fit(\n",
    "        X_train_kf, y_train_kf,\n",
    "        epochs=10,\n",
    "        batch_size=32,\n",
    "        validation_data=(X_val_kf, y_val_kf),\n",
    "        callbacks=[early_stopping, reduce_lr]\n",
    "    )\n",
    "\n",
    "\n"
   ]
  },
  {
   "cell_type": "code",
   "execution_count": null,
   "metadata": {
    "colab": {
     "base_uri": "https://localhost:8080/"
    },
    "executionInfo": {
     "elapsed": 137,
     "status": "ok",
     "timestamp": 1742480285514,
     "user": {
      "displayName": "Zanib Batool",
      "userId": "03316028306774710875"
     },
     "user_tz": -180
    },
    "id": "jlv_4S6HpPi0",
    "outputId": "f91732ee-3d12-4acc-d6db-d6be85941235"
   },
   "outputs": [
    {
     "name": "stdout",
     "output_type": "stream",
     "text": [
      "\n",
      "✅ Model saved successfully as 'OptimizedRNN_Model.keras'\n"
     ]
    }
   ],
   "source": [
    "#Save model\n",
    "OptimizedRNN.save(\"OptimizedRNN_Model.keras\")\n",
    "print(\"\\n✅ Model saved successfully as 'OptimizedRNN_Model.keras'\")\n",
    "\n"
   ]
  },
  {
   "cell_type": "code",
   "execution_count": null,
   "metadata": {
    "colab": {
     "base_uri": "https://localhost:8080/"
    },
    "executionInfo": {
     "elapsed": 2194,
     "status": "ok",
     "timestamp": 1742476535583,
     "user": {
      "displayName": "Zanib Batool",
      "userId": "03316028306774710875"
     },
     "user_tz": -180
    },
    "id": "zEDG5rPepKxR",
    "outputId": "70893df4-9e12-432c-84b8-0a25cfb67c04"
   },
   "outputs": [
    {
     "name": "stdout",
     "output_type": "stream",
     "text": [
      "\u001b[1m216/216\u001b[0m \u001b[32m━━━━━━━━━━━━━━━━━━━━\u001b[0m\u001b[37m\u001b[0m \u001b[1m2s\u001b[0m 10ms/step - accuracy: 0.8636 - loss: 0.6291\n",
      "Final Test Accuracy: 0.8588\n"
     ]
    }
   ],
   "source": [
    "loss, accuracy = OptimizedRNN.evaluate(X_val_kf, y_val_kf)\n",
    "print(f\"Final Test Accuracy: {accuracy:.4f}\")"
   ]
  },
  {
   "cell_type": "code",
   "execution_count": null,
   "metadata": {
    "colab": {
     "base_uri": "https://localhost:8080/",
     "height": 713
    },
    "executionInfo": {
     "elapsed": 4512,
     "status": "ok",
     "timestamp": 1742480429753,
     "user": {
      "displayName": "Zanib Batool",
      "userId": "03316028306774710875"
     },
     "user_tz": -180
    },
    "id": "d6dOua_9j6bW",
    "outputId": "3c9e93c7-6b8c-4132-e684-930cc7dc4c1c"
   },
   "outputs": [
    {
     "name": "stdout",
     "output_type": "stream",
     "text": [
      "\u001b[1m162/162\u001b[0m \u001b[32m━━━━━━━━━━━━━━━━━━━━\u001b[0m\u001b[37m\u001b[0m \u001b[1m4s\u001b[0m 17ms/step\n"
     ]
    },
    {
     "data": {
      "image/png": "[encoded data removed]",
      "text/plain": [
       "<Figure size 600x500 with 2 Axes>"
      ]
     },
     "metadata": {},
     "output_type": "display_data"
    },
    {
     "name": "stdout",
     "output_type": "stream",
     "text": [
      "\n",
      "🔹 Classification Report:\n",
      "              precision    recall  f1-score   support\n",
      "\n",
      "   happiness       0.46      0.46      0.46      1727\n",
      "     neutral       0.48      0.47      0.47      1728\n",
      "     sadness       0.47      0.48      0.47      1728\n",
      "\n",
      "    accuracy                           0.47      5183\n",
      "   macro avg       0.47      0.47      0.47      5183\n",
      "weighted avg       0.47      0.47      0.47      5183\n",
      "\n"
     ]
    }
   ],
   "source": [
    "#confusion matrix\n",
    "y_pred = OptimizedRNN.predict(X_test)\n",
    "y_pred_classes = np.argmax(y_pred, axis=1)\n",
    "y_true_classes = np.argmax(y_test, axis=1)\n",
    "\n",
    "cm = confusion_matrix(y_true_classes, y_pred_classes)\n",
    "labels = label_encoder.classes_\n",
    "\n",
    "plt.figure(figsize=(6,5))\n",
    "sns.heatmap(cm, annot=True, fmt='d', cmap='Blues', xticklabels=labels, yticklabels=labels)\n",
    "plt.xlabel('Predicted')\n",
    "plt.ylabel('Actual')\n",
    "plt.title('Confusion Matrix')\n",
    "plt.show()\n",
    "\n",
    "#classification report\n",
    "print(\"\\n🔹 Classification Report:\")\n",
    "print(classification_report(y_true_classes, y_pred_classes, target_names=labels))\n"
   ]
  },
  {
   "cell_type": "code",
   "execution_count": null,
   "metadata": {
    "colab": {
     "base_uri": "https://localhost:8080/",
     "height": 487
    },
    "executionInfo": {
     "elapsed": 324,
     "status": "ok",
     "timestamp": 1742480465282,
     "user": {
      "displayName": "Zanib Batool",
      "userId": "03316028306774710875"
     },
     "user_tz": -180
    },
    "id": "QuwapkCK7cqf",
    "outputId": "4619e289-643d-4df8-c8b0-42a7dacf03d4"
   },
   "outputs": [
    {
     "data": {
      "image/png": "[encoded data removed]",
      "text/plain": [
       "<Figure size 800x500 with 1 Axes>"
      ]
     },
     "metadata": {},
     "output_type": "display_data"
    }
   ],
   "source": [
    "\n",
    "plt.figure(figsize=(8, 5))\n",
    "plt.plot(history.history['accuracy'], label='Training Accuracy', marker='o')\n",
    "plt.plot(history.history['val_accuracy'], label='Validation Accuracy', marker='o')\n",
    "plt.xlabel('Epochs')\n",
    "plt.ylabel('Accuracy')\n",
    "plt.title('Training vs. Validation Accuracy')\n",
    "plt.legend()\n",
    "plt.grid()\n",
    "plt.show()\n"
   ]
  },
  {
   "cell_type": "code",
   "execution_count": null,
   "metadata": {
    "colab": {
     "base_uri": "https://localhost:8080/"
    },
    "executionInfo": {
     "elapsed": 259,
     "status": "ok",
     "timestamp": 1742480786041,
     "user": {
      "displayName": "Zanib Batool",
      "userId": "03316028306774710875"
     },
     "user_tz": -180
    },
    "id": "zqsRem79pV5G",
    "outputId": "e5791582-2a67-4b79-ece1-e6c68e81c4be"
   },
   "outputs": [
    {
     "name": "stdout",
     "output_type": "stream",
     "text": [
      "\n",
      "✅ Model loaded successfully!\n"
     ]
    },
    {
     "name": "stderr",
     "output_type": "stream",
     "text": [
      "/usr/local/lib/python3.11/dist-packages/keras/src/saving/saving_lib.py:757: UserWarning: Skipping variable loading for optimizer 'rmsprop', because it has 23 variables whereas the saved optimizer has 44 variables. \n",
      "  saveable.load_own_variables(weights_store.get(inner_path))\n"
     ]
    }
   ],
   "source": [
    "from tensorflow.keras.models import load_model\n",
    "\n",
    "loaded_model = load_model(\"OptimizedRNN_Model.keras\")\n",
    "print(\"\\n✅ Model loaded successfully!\")"
   ]
  },
  {
   "cell_type": "code",
   "execution_count": null,
   "metadata": {
    "colab": {
     "base_uri": "https://localhost:8080/"
    },
    "executionInfo": {
     "elapsed": 94,
     "status": "ok",
     "timestamp": 1742481068915,
     "user": {
      "displayName": "Zanib Batool",
      "userId": "03316028306774710875"
     },
     "user_tz": -180
    },
    "id": "wev0hyJd8oVH",
    "outputId": "bd86aa4a-3442-4f21-d49e-0964c891f06c"
   },
   "outputs": [
    {
     "name": "stdout",
     "output_type": "stream",
     "text": [
      "\u001b[1m1/1\u001b[0m \u001b[32m━━━━━━━━━━━━━━━━━━━━\u001b[0m\u001b[37m\u001b[0m \u001b[1m0s\u001b[0m 42ms/step\n",
      "\n",
      "🔹 Predicted Sentiment: sadness\n"
     ]
    }
   ],
   "source": [
    "# Sentiment prediction function\n",
    "def predict_sentiment(text):\n",
    "\n",
    "    processed_text = clean_text(text)\n",
    "\n",
    "    text_seq = tokenizer.texts_to_sequences([processed_text])\n",
    "    text_pad = pad_sequences(text_seq, maxlen=max_len)\n",
    "\n",
    "    prediction = loaded_model.predict(text_pad)\n",
    "    predicted_class = np.argmax(prediction)\n",
    "    predicted_label = label_encoder.inverse_transform([predicted_class])\n",
    "\n",
    "    print(f\"\\n🔹 Predicted Sentiment: {predicted_label[0]}\")\n",
    "\n",
    "# Example usage\n",
    "new_tweet = \"i am so sad\"\n",
    "predict_sentiment(new_tweet)\n"
   ]
  }
 ],
 "metadata": {
  "accelerator": "GPU",
  "colab": {
   "authorship_tag": "ABX9TyMuAfd0LJpbVtH/3HnyT1jE",
   "gpuType": "L4",
   "machine_shape": "hm",
   "provenance": []
  },
  "kernelspec": {
   "display_name": "Python 3",
   "name": "python3"
  },
  "language_info": {
   "name": "python"
  }
 },
 "nbformat": 4,
 "nbformat_minor": 0
}
